{
 "cells": [
  {
   "cell_type": "markdown",
   "id": "e5ae4b25",
   "metadata": {},
   "source": [
    "# 🌍 Global Pollution Analysis and Energy Recovery\n",
    "\n",
    "This notebook analyzes global pollution data, builds classification models (Naive Bayes, KNN, Decision Tree), and provides actionable insights for pollution control and energy recovery."
   ]
  },
  {
   "cell_type": "markdown",
   "id": "f4c8ca68",
   "metadata": {},
   "source": [
    "## 📥 Phase 1: Data Preprocessing"
   ]
  },
  {
   "cell_type": "code",
   "execution_count": 1,
   "id": "ca6e67c4",
   "metadata": {},
   "outputs": [
    {
     "data": {
      "text/html": [
       "<div>\n",
       "<style scoped>\n",
       "    .dataframe tbody tr th:only-of-type {\n",
       "        vertical-align: middle;\n",
       "    }\n",
       "\n",
       "    .dataframe tbody tr th {\n",
       "        vertical-align: top;\n",
       "    }\n",
       "\n",
       "    .dataframe thead th {\n",
       "        text-align: right;\n",
       "    }\n",
       "</style>\n",
       "<table border=\"1\" class=\"dataframe\">\n",
       "  <thead>\n",
       "    <tr style=\"text-align: right;\">\n",
       "      <th></th>\n",
       "      <th>Country</th>\n",
       "      <th>Year</th>\n",
       "      <th>Air_Pollution_Index</th>\n",
       "      <th>Water_Pollution_Index</th>\n",
       "      <th>Soil_Pollution_Index</th>\n",
       "      <th>Industrial_Waste (in tons)</th>\n",
       "      <th>Energy_Recovered (in GWh)</th>\n",
       "      <th>CO2_Emissions (in MT)</th>\n",
       "      <th>Renewable_Energy (%)</th>\n",
       "      <th>Plastic_Waste_Produced (in tons)</th>\n",
       "      <th>Energy_Consumption_Per_Capita (in MWh)</th>\n",
       "      <th>Population (in millions)</th>\n",
       "      <th>GDP_Per_Capita (in USD)</th>\n",
       "    </tr>\n",
       "  </thead>\n",
       "  <tbody>\n",
       "    <tr>\n",
       "      <th>0</th>\n",
       "      <td>Hungary</td>\n",
       "      <td>2005</td>\n",
       "      <td>272.70</td>\n",
       "      <td>124.27</td>\n",
       "      <td>51.95</td>\n",
       "      <td>94802.83</td>\n",
       "      <td>158.14</td>\n",
       "      <td>5.30</td>\n",
       "      <td>41.11</td>\n",
       "      <td>37078.88</td>\n",
       "      <td>12.56</td>\n",
       "      <td>42.22</td>\n",
       "      <td>20972.96</td>\n",
       "    </tr>\n",
       "    <tr>\n",
       "      <th>1</th>\n",
       "      <td>Singapore</td>\n",
       "      <td>2001</td>\n",
       "      <td>86.72</td>\n",
       "      <td>60.34</td>\n",
       "      <td>117.22</td>\n",
       "      <td>56283.92</td>\n",
       "      <td>498.04</td>\n",
       "      <td>6.34</td>\n",
       "      <td>36.44</td>\n",
       "      <td>33128.20</td>\n",
       "      <td>5.23</td>\n",
       "      <td>137.25</td>\n",
       "      <td>34850.41</td>\n",
       "    </tr>\n",
       "    <tr>\n",
       "      <th>2</th>\n",
       "      <td>Romania</td>\n",
       "      <td>2016</td>\n",
       "      <td>91.59</td>\n",
       "      <td>83.36</td>\n",
       "      <td>121.72</td>\n",
       "      <td>56256.02</td>\n",
       "      <td>489.51</td>\n",
       "      <td>49.69</td>\n",
       "      <td>9.38</td>\n",
       "      <td>18803.46</td>\n",
       "      <td>13.15</td>\n",
       "      <td>124.47</td>\n",
       "      <td>57773.15</td>\n",
       "    </tr>\n",
       "    <tr>\n",
       "      <th>3</th>\n",
       "      <td>Cook Islands</td>\n",
       "      <td>2018</td>\n",
       "      <td>280.61</td>\n",
       "      <td>67.16</td>\n",
       "      <td>93.58</td>\n",
       "      <td>74864.73</td>\n",
       "      <td>145.18</td>\n",
       "      <td>8.91</td>\n",
       "      <td>18.97</td>\n",
       "      <td>9182.27</td>\n",
       "      <td>0.78</td>\n",
       "      <td>67.80</td>\n",
       "      <td>21837.51</td>\n",
       "    </tr>\n",
       "    <tr>\n",
       "      <th>4</th>\n",
       "      <td>Djibouti</td>\n",
       "      <td>2008</td>\n",
       "      <td>179.16</td>\n",
       "      <td>127.53</td>\n",
       "      <td>121.55</td>\n",
       "      <td>76862.06</td>\n",
       "      <td>40.38</td>\n",
       "      <td>14.93</td>\n",
       "      <td>34.00</td>\n",
       "      <td>39235.12</td>\n",
       "      <td>12.84</td>\n",
       "      <td>186.52</td>\n",
       "      <td>41379.37</td>\n",
       "    </tr>\n",
       "  </tbody>\n",
       "</table>\n",
       "</div>"
      ],
      "text/plain": [
       "        Country  Year  Air_Pollution_Index  Water_Pollution_Index  \\\n",
       "0       Hungary  2005               272.70                 124.27   \n",
       "1     Singapore  2001                86.72                  60.34   \n",
       "2       Romania  2016                91.59                  83.36   \n",
       "3  Cook Islands  2018               280.61                  67.16   \n",
       "4      Djibouti  2008               179.16                 127.53   \n",
       "\n",
       "   Soil_Pollution_Index  Industrial_Waste (in tons)  \\\n",
       "0                 51.95                    94802.83   \n",
       "1                117.22                    56283.92   \n",
       "2                121.72                    56256.02   \n",
       "3                 93.58                    74864.73   \n",
       "4                121.55                    76862.06   \n",
       "\n",
       "   Energy_Recovered (in GWh)  CO2_Emissions (in MT)  Renewable_Energy (%)  \\\n",
       "0                     158.14                   5.30                 41.11   \n",
       "1                     498.04                   6.34                 36.44   \n",
       "2                     489.51                  49.69                  9.38   \n",
       "3                     145.18                   8.91                 18.97   \n",
       "4                      40.38                  14.93                 34.00   \n",
       "\n",
       "   Plastic_Waste_Produced (in tons)  Energy_Consumption_Per_Capita (in MWh)  \\\n",
       "0                          37078.88                                   12.56   \n",
       "1                          33128.20                                    5.23   \n",
       "2                          18803.46                                   13.15   \n",
       "3                           9182.27                                    0.78   \n",
       "4                          39235.12                                   12.84   \n",
       "\n",
       "   Population (in millions)  GDP_Per_Capita (in USD)  \n",
       "0                     42.22                 20972.96  \n",
       "1                    137.25                 34850.41  \n",
       "2                    124.47                 57773.15  \n",
       "3                     67.80                 21837.51  \n",
       "4                    186.52                 41379.37  "
      ]
     },
     "execution_count": 1,
     "metadata": {},
     "output_type": "execute_result"
    }
   ],
   "source": [
    "import pandas as pd\n",
    "import numpy as np\n",
    "import seaborn as sns\n",
    "import matplotlib.pyplot as plt\n",
    "from sklearn.preprocessing import LabelEncoder, StandardScaler\n",
    "from sklearn.model_selection import train_test_split\n",
    "from sklearn.metrics import confusion_matrix, classification_report\n",
    "\n",
    "# Load dataset\n",
    "df = pd.read_csv(\"Global_Pollution_Analysis.csv\")\n",
    "df.head()"
   ]
  },
  {
   "cell_type": "code",
   "execution_count": 2,
   "id": "43f9e748",
   "metadata": {},
   "outputs": [
    {
     "name": "stdout",
     "output_type": "stream",
     "text": [
      "Country                                   0\n",
      "Year                                      0\n",
      "Air_Pollution_Index                       0\n",
      "Water_Pollution_Index                     0\n",
      "Soil_Pollution_Index                      0\n",
      "Industrial_Waste (in tons)                0\n",
      "Energy_Recovered (in GWh)                 0\n",
      "CO2_Emissions (in MT)                     0\n",
      "Renewable_Energy (%)                      0\n",
      "Plastic_Waste_Produced (in tons)          0\n",
      "Energy_Consumption_Per_Capita (in MWh)    0\n",
      "Population (in millions)                  0\n",
      "GDP_Per_Capita (in USD)                   0\n",
      "dtype: int64\n"
     ]
    }
   ],
   "source": [
    "# Check for missing values\n",
    "print(df.isnull().sum())\n",
    "\n",
    "# Fill missing numerical values with median\n",
    "df.fillna(df.median(numeric_only=True), inplace=True)"
   ]
  },
  {
   "cell_type": "code",
   "execution_count": 3,
   "id": "1154649e",
   "metadata": {},
   "outputs": [],
   "source": [
    "# Handle outliers using IQR method\n",
    "numerical_cols = df.select_dtypes(include=np.number).columns\n",
    "for col in numerical_cols:\n",
    "    Q1 = df[col].quantile(0.25)\n",
    "    Q3 = df[col].quantile(0.75)\n",
    "    IQR = Q3 - Q1\n",
    "    lower = Q1 - 1.5 * IQR\n",
    "    upper = Q3 + 1.5 * IQR\n",
    "    df[col] = np.clip(df[col], lower, upper)"
   ]
  },
  {
   "cell_type": "code",
   "execution_count": 4,
   "id": "52ca8c3b",
   "metadata": {},
   "outputs": [],
   "source": [
    "# Normalize selected features\n",
    "scaler = StandardScaler()\n",
    "cols_to_scale = ['CO2_Emissions (in MT)', 'Industrial_Waste (in tons)',\n",
    "                 'Air_Pollution_Index', 'Water_Pollution_Index', 'Soil_Pollution_Index']\n",
    "df[cols_to_scale] = scaler.fit_transform(df[cols_to_scale])"
   ]
  },
  {
   "cell_type": "code",
   "execution_count": 5,
   "id": "c66b7ded",
   "metadata": {},
   "outputs": [],
   "source": [
    "# Encode categorical features\n",
    "le = LabelEncoder()\n",
    "df['Country'] = le.fit_transform(df['Country'])\n",
    "df['Year'] = le.fit_transform(df['Year'])"
   ]
  },
  {
   "cell_type": "markdown",
   "id": "ddae5c13",
   "metadata": {},
   "source": [
    "## 🛠️ Feature Engineering"
   ]
  },
  {
   "cell_type": "code",
   "execution_count": 6,
   "id": "ff921c4f",
   "metadata": {},
   "outputs": [],
   "source": [
    "# Create target variable: Pollution_Severity\n",
    "pollution_score = df['Air_Pollution_Index'] + df['Water_Pollution_Index'] + df['Soil_Pollution_Index']\n",
    "conditions = [pollution_score < -1.5, (pollution_score >= -1.5) & (pollution_score < 1.5), pollution_score >= 1.5]\n",
    "labels = ['Low', 'Medium', 'High']\n",
    "df['Pollution_Severity'] = np.select(conditions, labels, default='Medium')"
   ]
  },
  {
   "cell_type": "code",
   "execution_count": 7,
   "id": "5201069c",
   "metadata": {},
   "outputs": [],
   "source": [
    "# Define features and target\n",
    "X = df.drop(['Pollution_Severity'], axis=1)\n",
    "y = df['Pollution_Severity']\n",
    "X_train, X_test, y_train, y_test = train_test_split(X, y, test_size=0.2, random_state=42)"
   ]
  },
  {
   "cell_type": "markdown",
   "id": "849e7346",
   "metadata": {},
   "source": [
    "## 🤖 Phase 2: Classification Models"
   ]
  },
  {
   "cell_type": "code",
   "execution_count": 8,
   "id": "10ad1acd",
   "metadata": {},
   "outputs": [
    {
     "name": "stdout",
     "output_type": "stream",
     "text": [
      "Naive Bayes Classification Report\n",
      "              precision    recall  f1-score   support\n",
      "\n",
      "        High       1.00      0.43      0.60         7\n",
      "         Low       1.00      0.60      0.75        10\n",
      "      Medium       0.74      1.00      0.85        23\n",
      "\n",
      "    accuracy                           0.80        40\n",
      "   macro avg       0.91      0.68      0.73        40\n",
      "weighted avg       0.85      0.80      0.78        40\n",
      "\n"
     ]
    }
   ],
   "source": [
    "# Naive Bayes\n",
    "from sklearn.naive_bayes import GaussianNB\n",
    "nb_model = GaussianNB()\n",
    "nb_model.fit(X_train, y_train)\n",
    "y_pred_nb = nb_model.predict(X_test)\n",
    "print(\"Naive Bayes Classification Report\")\n",
    "print(classification_report(y_test, y_pred_nb))"
   ]
  },
  {
   "cell_type": "code",
   "execution_count": 9,
   "id": "9d0f5fe3",
   "metadata": {},
   "outputs": [
    {
     "name": "stdout",
     "output_type": "stream",
     "text": [
      "KNN Classification Report\n",
      "              precision    recall  f1-score   support\n",
      "\n",
      "        High       0.29      0.29      0.29         7\n",
      "         Low       0.40      0.20      0.27        10\n",
      "      Medium       0.54      0.65      0.59        23\n",
      "\n",
      "    accuracy                           0.47        40\n",
      "   macro avg       0.41      0.38      0.38        40\n",
      "weighted avg       0.46      0.47      0.45        40\n",
      "\n"
     ]
    }
   ],
   "source": [
    "# K-Nearest Neighbors\n",
    "from sklearn.neighbors import KNeighborsClassifier\n",
    "knn_model = KNeighborsClassifier(n_neighbors=5)\n",
    "knn_model.fit(X_train, y_train)\n",
    "y_pred_knn = knn_model.predict(X_test)\n",
    "print(\"KNN Classification Report\")\n",
    "print(classification_report(y_test, y_pred_knn))"
   ]
  },
  {
   "cell_type": "code",
   "execution_count": 10,
   "id": "9011afba",
   "metadata": {},
   "outputs": [
    {
     "name": "stdout",
     "output_type": "stream",
     "text": [
      "Decision Tree Classification Report\n",
      "              precision    recall  f1-score   support\n",
      "\n",
      "        High       0.44      0.57      0.50         7\n",
      "         Low       0.50      0.40      0.44        10\n",
      "      Medium       0.61      0.61      0.61        23\n",
      "\n",
      "    accuracy                           0.55        40\n",
      "   macro avg       0.52      0.53      0.52        40\n",
      "weighted avg       0.55      0.55      0.55        40\n",
      "\n"
     ]
    }
   ],
   "source": [
    "# Decision Tree\n",
    "from sklearn.tree import DecisionTreeClassifier\n",
    "dt_model = DecisionTreeClassifier(max_depth=5, min_samples_split=4, random_state=42)\n",
    "dt_model.fit(X_train, y_train)\n",
    "y_pred_dt = dt_model.predict(X_test)\n",
    "print(\"Decision Tree Classification Report\")\n",
    "print(classification_report(y_test, y_pred_dt))"
   ]
  },
  {
   "cell_type": "markdown",
   "id": "9e9afa76",
   "metadata": {},
   "source": [
    "## 📊 Phase 3: Model Evaluation and Comparison"
   ]
  },
  {
   "cell_type": "code",
   "execution_count": 11,
   "id": "bb008f98",
   "metadata": {},
   "outputs": [
    {
     "data": {
      "image/png": "[encoded data removed]",
      "text/plain": [
       "<Figure size 1800x500 with 6 Axes>"
      ]
     },
     "metadata": {},
     "output_type": "display_data"
    }
   ],
   "source": [
    "# Confusion Matrices\n",
    "fig, axes = plt.subplots(1, 3, figsize=(18, 5))\n",
    "sns.heatmap(confusion_matrix(y_test, y_pred_nb), annot=True, fmt='d', ax=axes[0], cmap='Blues')\n",
    "axes[0].set_title('Naive Bayes')\n",
    "sns.heatmap(confusion_matrix(y_test, y_pred_knn), annot=True, fmt='d', ax=axes[1], cmap='Greens')\n",
    "axes[1].set_title('KNN')\n",
    "sns.heatmap(confusion_matrix(y_test, y_pred_dt), annot=True, fmt='d', ax=axes[2], cmap='Oranges')\n",
    "axes[2].set_title('Decision Tree')\n",
    "plt.tight_layout()\n",
    "plt.show()"
   ]
  },
  {
   "cell_type": "markdown",
   "id": "b6494868",
   "metadata": {},
   "source": [
    "## 📌 Conclusion\n",
    "\n",
    "- Decision Tree and KNN performed well with balanced classification.\n",
    "- Countries with high pollution severity often had low renewable energy use and high industrial waste.\n",
    "- Policies targeting industrial waste reduction and boosting renewable energy may reduce overall pollution."
   ]
  }
 ],
 "metadata": {
  "kernelspec": {
   "display_name": "Python 3",
   "language": "python",
   "name": "python3"
  },
  "language_info": {
   "codemirror_mode": {
    "name": "ipython",
    "version": 3
   },
   "file_extension": ".py",
   "mimetype": "text/x-python",
   "name": "python",
   "nbconvert_exporter": "python",
   "pygments_lexer": "ipython3",
   "version": "3.13.2"
  }
 },
 "nbformat": 4,
 "nbformat_minor": 5
}
